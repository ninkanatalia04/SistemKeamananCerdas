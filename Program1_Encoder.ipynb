{
  "cells": [
    {
      "cell_type": "markdown",
      "metadata": {
        "id": "view-in-github",
        "colab_type": "text"
      },
      "source": [
        "<a href=\"https://colab.research.google.com/github/ninkanatalia04/SistemKeamananCerdas/blob/main/Program1_Encoder.ipynb\" target=\"_parent\"><img src=\"https://colab.research.google.com/assets/colab-badge.svg\" alt=\"Open In Colab\"/></a>"
      ]
    },
    {
      "cell_type": "markdown",
      "source": [
        "# **INSIDER THREAT USING TRANSFORMERS ON USER ACTIVITY LOGS**\n",
        "\n",
        "**Topik Riset:**\n",
        "\n",
        "\"Deteksi Ancaman Internal Menggunakan Transformer untuk Menganalisis Log Aktivitas Pengguna\"\n",
        "\n",
        "**Deskripsi:**\n",
        "\n",
        "Transformer digunakan untuk menganalisis aktivitas pengguna secara menyeluruh. Model ini dilatih untuk mendeteksi pola akses yang tidak biasa oleh pengguna internal, seperti akses data di luar jam kerja atau aktivitas mencurigakan lainnya, dengan mempelajari urutan akses file dan sistem.\n",
        "\n",
        "**Novelty:**\n",
        "\n",
        "Sedang hingga tinggi. Insider threat sudah menjadi fokus penelitian dengan berbagai metode deteksi perilaku anomali. Namun, Transformer, dengan kemampuannya untuk menangkap perubahan perilaku yang halus dalam urutan log, menawarkan pendekatan baru yang dapat meningkatkan performa deteksi.\n",
        "\n",
        "\n",
        "**Dataset: CERT Insider threat**\n",
        "\n",
        "Dataset ini berisi data aktivitas pengguna yang mencurigakan dan bisa digunakan untuk mendeteksi Insider Threat. Model Transformer bisa mengenali pola akses yang anomali berdasarkan log pengguna.\n",
        "\n",
        "URL: https://www.kaggle.com/datasets/nitishabharathi/cert-insider-threat\n"
      ],
      "metadata": {
        "id": "O-fk_l1bL8_I"
      }
    },
    {
      "cell_type": "markdown",
      "metadata": {
        "id": "_zwCO4CYjHOA"
      },
      "source": [
        "# **Importing Modules and Libraries**"
      ]
    },
    {
      "cell_type": "code",
      "execution_count": 2,
      "metadata": {
        "id": "aM4cT-t9_Aqr"
      },
      "outputs": [],
      "source": [
        "# importing required libraries\n",
        "import numpy as np\n",
        "import pandas as pd\n",
        "\n",
        "import seaborn as sns\n",
        "import matplotlib.pyplot as plt\n",
        "\n",
        "import pickle\n",
        "from os import path\n",
        "\n",
        "from sklearn.preprocessing import MinMaxScaler\n",
        "from sklearn.preprocessing import StandardScaler\n",
        "from sklearn.preprocessing import LabelEncoder\n",
        "\n",
        "from sklearn import metrics\n",
        "from sklearn import preprocessing\n",
        "from sklearn.metrics import accuracy_score\n",
        "from sklearn.model_selection import train_test_split\n",
        "from sklearn.metrics import classification_report\n",
        "from sklearn.metrics import confusion_matrix\n",
        "from sklearn.metrics import precision_score\n",
        "from sklearn.metrics import recall_score\n",
        "from sklearn.metrics import f1_score\n"
      ]
    },
    {
      "cell_type": "markdown",
      "metadata": {
        "id": "AHj5eTAujTyE"
      },
      "source": [
        "# **Importing Datasets**"
      ]
    },
    {
      "cell_type": "code",
      "execution_count": 3,
      "metadata": {
        "colab": {
          "base_uri": "https://localhost:8080/"
        },
        "id": "NU9K3Y6ojUNm",
        "outputId": "aa95465d-d666-4571-9665-879f06079cb1"
      },
      "outputs": [
        {
          "output_type": "stream",
          "name": "stdout",
          "text": [
            "Mounted at /content/gdrive\n",
            "gdrive\tsample_data\n"
          ]
        }
      ],
      "source": [
        "from google.colab import drive\n",
        "drive.mount('/content/gdrive', force_remount=True)\n",
        "!ls\n"
      ]
    },
    {
      "cell_type": "code",
      "execution_count": 4,
      "metadata": {
        "colab": {
          "base_uri": "https://localhost:8080/"
        },
        "id": "0atFcMKxja9Q",
        "outputId": "513d09e4-905a-4d87-814d-b57cab064f56"
      },
      "outputs": [
        {
          "output_type": "stream",
          "name": "stdout",
          "text": [
            "email.csv  model_best_fold_1.pt\n"
          ]
        }
      ],
      "source": [
        "import os\n",
        "os.chdir(\"/content/gdrive/My Drive/dataset\")\n",
        "!ls\n"
      ]
    },
    {
      "cell_type": "code",
      "execution_count": 5,
      "metadata": {
        "id": "On4cwKOXji-n"
      },
      "outputs": [],
      "source": [
        "data = pd.read_csv('email.csv')\n"
      ]
    },
    {
      "cell_type": "code",
      "execution_count": 6,
      "metadata": {
        "colab": {
          "base_uri": "https://localhost:8080/",
          "height": 573
        },
        "id": "9fklOnwGjmB4",
        "outputId": "93a1fb58-1e13-447e-b079-4b4a53804191"
      },
      "outputs": [
        {
          "output_type": "execute_result",
          "data": {
            "text/plain": [
              "                         id                 date     user       pc  \\\n",
              "0  {R3I7-S4TX96FG-8219JWFF}  01/02/2010 07:11:45  LAP0338  PC-5758   \n",
              "1  {R0R9-E4GL59IK-2907OSWJ}  01/02/2010 07:12:16  MOH0273  PC-6699   \n",
              "2  {G2B2-A8XY58CP-2847ZJZL}  01/02/2010 07:13:00  LAP0338  PC-5758   \n",
              "3  {A3A9-F4TH89AA-8318GFGK}  01/02/2010 07:13:17  LAP0338  PC-5758   \n",
              "4  {E8B7-C8FZ88UF-2946RUQQ}  01/02/2010 07:13:28  MOH0273  PC-6699   \n",
              "\n",
              "                                                  to  \\\n",
              "0  Dean.Flynn.Hines@dtaa.com;Wade_Harrison@lockhe...   \n",
              "1                        Odonnell-Gage@bellsouth.net   \n",
              "2                         Penelope_Colon@netzero.com   \n",
              "3                          Judith_Hayden@comcast.net   \n",
              "4  Bond-Raymond@verizon.net;Alea_Ferrell@msn.com;...   \n",
              "\n",
              "                                cc                          bcc  \\\n",
              "0  Nathaniel.Hunter.Heath@dtaa.com                          NaN   \n",
              "1                              NaN                          NaN   \n",
              "2                              NaN                          NaN   \n",
              "3                              NaN                          NaN   \n",
              "4                              NaN  Odonnell-Gage@bellsouth.net   \n",
              "\n",
              "                         from   size  attachments  \\\n",
              "0   Lynn.Adena.Pratt@dtaa.com  25830            0   \n",
              "1         MOH68@optonline.net  29942            0   \n",
              "2  Lynn_A_Pratt@earthlink.net  28780            0   \n",
              "3  Lynn_A_Pratt@earthlink.net  21907            0   \n",
              "4         MOH68@optonline.net  17319            0   \n",
              "\n",
              "                                             content  \n",
              "0  middle f2 systems 4 july techniques powerful d...  \n",
              "1  the breaking called allied reservations former...  \n",
              "2  slowly this uncinus winter beneath addition ex...  \n",
              "3  400 other difficult land cirrocumulus powered ...  \n",
              "4  this kmh october holliswood number advised unu...  "
            ],
            "text/html": [
              "\n",
              "  <div id=\"df-f2671ee7-d788-4df0-9360-f49ee4609c1c\" class=\"colab-df-container\">\n",
              "    <div>\n",
              "<style scoped>\n",
              "    .dataframe tbody tr th:only-of-type {\n",
              "        vertical-align: middle;\n",
              "    }\n",
              "\n",
              "    .dataframe tbody tr th {\n",
              "        vertical-align: top;\n",
              "    }\n",
              "\n",
              "    .dataframe thead th {\n",
              "        text-align: right;\n",
              "    }\n",
              "</style>\n",
              "<table border=\"1\" class=\"dataframe\">\n",
              "  <thead>\n",
              "    <tr style=\"text-align: right;\">\n",
              "      <th></th>\n",
              "      <th>id</th>\n",
              "      <th>date</th>\n",
              "      <th>user</th>\n",
              "      <th>pc</th>\n",
              "      <th>to</th>\n",
              "      <th>cc</th>\n",
              "      <th>bcc</th>\n",
              "      <th>from</th>\n",
              "      <th>size</th>\n",
              "      <th>attachments</th>\n",
              "      <th>content</th>\n",
              "    </tr>\n",
              "  </thead>\n",
              "  <tbody>\n",
              "    <tr>\n",
              "      <th>0</th>\n",
              "      <td>{R3I7-S4TX96FG-8219JWFF}</td>\n",
              "      <td>01/02/2010 07:11:45</td>\n",
              "      <td>LAP0338</td>\n",
              "      <td>PC-5758</td>\n",
              "      <td>Dean.Flynn.Hines@dtaa.com;Wade_Harrison@lockhe...</td>\n",
              "      <td>Nathaniel.Hunter.Heath@dtaa.com</td>\n",
              "      <td>NaN</td>\n",
              "      <td>Lynn.Adena.Pratt@dtaa.com</td>\n",
              "      <td>25830</td>\n",
              "      <td>0</td>\n",
              "      <td>middle f2 systems 4 july techniques powerful d...</td>\n",
              "    </tr>\n",
              "    <tr>\n",
              "      <th>1</th>\n",
              "      <td>{R0R9-E4GL59IK-2907OSWJ}</td>\n",
              "      <td>01/02/2010 07:12:16</td>\n",
              "      <td>MOH0273</td>\n",
              "      <td>PC-6699</td>\n",
              "      <td>Odonnell-Gage@bellsouth.net</td>\n",
              "      <td>NaN</td>\n",
              "      <td>NaN</td>\n",
              "      <td>MOH68@optonline.net</td>\n",
              "      <td>29942</td>\n",
              "      <td>0</td>\n",
              "      <td>the breaking called allied reservations former...</td>\n",
              "    </tr>\n",
              "    <tr>\n",
              "      <th>2</th>\n",
              "      <td>{G2B2-A8XY58CP-2847ZJZL}</td>\n",
              "      <td>01/02/2010 07:13:00</td>\n",
              "      <td>LAP0338</td>\n",
              "      <td>PC-5758</td>\n",
              "      <td>Penelope_Colon@netzero.com</td>\n",
              "      <td>NaN</td>\n",
              "      <td>NaN</td>\n",
              "      <td>Lynn_A_Pratt@earthlink.net</td>\n",
              "      <td>28780</td>\n",
              "      <td>0</td>\n",
              "      <td>slowly this uncinus winter beneath addition ex...</td>\n",
              "    </tr>\n",
              "    <tr>\n",
              "      <th>3</th>\n",
              "      <td>{A3A9-F4TH89AA-8318GFGK}</td>\n",
              "      <td>01/02/2010 07:13:17</td>\n",
              "      <td>LAP0338</td>\n",
              "      <td>PC-5758</td>\n",
              "      <td>Judith_Hayden@comcast.net</td>\n",
              "      <td>NaN</td>\n",
              "      <td>NaN</td>\n",
              "      <td>Lynn_A_Pratt@earthlink.net</td>\n",
              "      <td>21907</td>\n",
              "      <td>0</td>\n",
              "      <td>400 other difficult land cirrocumulus powered ...</td>\n",
              "    </tr>\n",
              "    <tr>\n",
              "      <th>4</th>\n",
              "      <td>{E8B7-C8FZ88UF-2946RUQQ}</td>\n",
              "      <td>01/02/2010 07:13:28</td>\n",
              "      <td>MOH0273</td>\n",
              "      <td>PC-6699</td>\n",
              "      <td>Bond-Raymond@verizon.net;Alea_Ferrell@msn.com;...</td>\n",
              "      <td>NaN</td>\n",
              "      <td>Odonnell-Gage@bellsouth.net</td>\n",
              "      <td>MOH68@optonline.net</td>\n",
              "      <td>17319</td>\n",
              "      <td>0</td>\n",
              "      <td>this kmh october holliswood number advised unu...</td>\n",
              "    </tr>\n",
              "  </tbody>\n",
              "</table>\n",
              "</div>\n",
              "    <div class=\"colab-df-buttons\">\n",
              "\n",
              "  <div class=\"colab-df-container\">\n",
              "    <button class=\"colab-df-convert\" onclick=\"convertToInteractive('df-f2671ee7-d788-4df0-9360-f49ee4609c1c')\"\n",
              "            title=\"Convert this dataframe to an interactive table.\"\n",
              "            style=\"display:none;\">\n",
              "\n",
              "  <svg xmlns=\"http://www.w3.org/2000/svg\" height=\"24px\" viewBox=\"0 -960 960 960\">\n",
              "    <path d=\"M120-120v-720h720v720H120Zm60-500h600v-160H180v160Zm220 220h160v-160H400v160Zm0 220h160v-160H400v160ZM180-400h160v-160H180v160Zm440 0h160v-160H620v160ZM180-180h160v-160H180v160Zm440 0h160v-160H620v160Z\"/>\n",
              "  </svg>\n",
              "    </button>\n",
              "\n",
              "  <style>\n",
              "    .colab-df-container {\n",
              "      display:flex;\n",
              "      gap: 12px;\n",
              "    }\n",
              "\n",
              "    .colab-df-convert {\n",
              "      background-color: #E8F0FE;\n",
              "      border: none;\n",
              "      border-radius: 50%;\n",
              "      cursor: pointer;\n",
              "      display: none;\n",
              "      fill: #1967D2;\n",
              "      height: 32px;\n",
              "      padding: 0 0 0 0;\n",
              "      width: 32px;\n",
              "    }\n",
              "\n",
              "    .colab-df-convert:hover {\n",
              "      background-color: #E2EBFA;\n",
              "      box-shadow: 0px 1px 2px rgba(60, 64, 67, 0.3), 0px 1px 3px 1px rgba(60, 64, 67, 0.15);\n",
              "      fill: #174EA6;\n",
              "    }\n",
              "\n",
              "    .colab-df-buttons div {\n",
              "      margin-bottom: 4px;\n",
              "    }\n",
              "\n",
              "    [theme=dark] .colab-df-convert {\n",
              "      background-color: #3B4455;\n",
              "      fill: #D2E3FC;\n",
              "    }\n",
              "\n",
              "    [theme=dark] .colab-df-convert:hover {\n",
              "      background-color: #434B5C;\n",
              "      box-shadow: 0px 1px 3px 1px rgba(0, 0, 0, 0.15);\n",
              "      filter: drop-shadow(0px 1px 2px rgba(0, 0, 0, 0.3));\n",
              "      fill: #FFFFFF;\n",
              "    }\n",
              "  </style>\n",
              "\n",
              "    <script>\n",
              "      const buttonEl =\n",
              "        document.querySelector('#df-f2671ee7-d788-4df0-9360-f49ee4609c1c button.colab-df-convert');\n",
              "      buttonEl.style.display =\n",
              "        google.colab.kernel.accessAllowed ? 'block' : 'none';\n",
              "\n",
              "      async function convertToInteractive(key) {\n",
              "        const element = document.querySelector('#df-f2671ee7-d788-4df0-9360-f49ee4609c1c');\n",
              "        const dataTable =\n",
              "          await google.colab.kernel.invokeFunction('convertToInteractive',\n",
              "                                                    [key], {});\n",
              "        if (!dataTable) return;\n",
              "\n",
              "        const docLinkHtml = 'Like what you see? Visit the ' +\n",
              "          '<a target=\"_blank\" href=https://colab.research.google.com/notebooks/data_table.ipynb>data table notebook</a>'\n",
              "          + ' to learn more about interactive tables.';\n",
              "        element.innerHTML = '';\n",
              "        dataTable['output_type'] = 'display_data';\n",
              "        await google.colab.output.renderOutput(dataTable, element);\n",
              "        const docLink = document.createElement('div');\n",
              "        docLink.innerHTML = docLinkHtml;\n",
              "        element.appendChild(docLink);\n",
              "      }\n",
              "    </script>\n",
              "  </div>\n",
              "\n",
              "\n",
              "<div id=\"df-5c19c85f-c3f5-42c0-9556-77676934ed1b\">\n",
              "  <button class=\"colab-df-quickchart\" onclick=\"quickchart('df-5c19c85f-c3f5-42c0-9556-77676934ed1b')\"\n",
              "            title=\"Suggest charts\"\n",
              "            style=\"display:none;\">\n",
              "\n",
              "<svg xmlns=\"http://www.w3.org/2000/svg\" height=\"24px\"viewBox=\"0 0 24 24\"\n",
              "     width=\"24px\">\n",
              "    <g>\n",
              "        <path d=\"M19 3H5c-1.1 0-2 .9-2 2v14c0 1.1.9 2 2 2h14c1.1 0 2-.9 2-2V5c0-1.1-.9-2-2-2zM9 17H7v-7h2v7zm4 0h-2V7h2v10zm4 0h-2v-4h2v4z\"/>\n",
              "    </g>\n",
              "</svg>\n",
              "  </button>\n",
              "\n",
              "<style>\n",
              "  .colab-df-quickchart {\n",
              "      --bg-color: #E8F0FE;\n",
              "      --fill-color: #1967D2;\n",
              "      --hover-bg-color: #E2EBFA;\n",
              "      --hover-fill-color: #174EA6;\n",
              "      --disabled-fill-color: #AAA;\n",
              "      --disabled-bg-color: #DDD;\n",
              "  }\n",
              "\n",
              "  [theme=dark] .colab-df-quickchart {\n",
              "      --bg-color: #3B4455;\n",
              "      --fill-color: #D2E3FC;\n",
              "      --hover-bg-color: #434B5C;\n",
              "      --hover-fill-color: #FFFFFF;\n",
              "      --disabled-bg-color: #3B4455;\n",
              "      --disabled-fill-color: #666;\n",
              "  }\n",
              "\n",
              "  .colab-df-quickchart {\n",
              "    background-color: var(--bg-color);\n",
              "    border: none;\n",
              "    border-radius: 50%;\n",
              "    cursor: pointer;\n",
              "    display: none;\n",
              "    fill: var(--fill-color);\n",
              "    height: 32px;\n",
              "    padding: 0;\n",
              "    width: 32px;\n",
              "  }\n",
              "\n",
              "  .colab-df-quickchart:hover {\n",
              "    background-color: var(--hover-bg-color);\n",
              "    box-shadow: 0 1px 2px rgba(60, 64, 67, 0.3), 0 1px 3px 1px rgba(60, 64, 67, 0.15);\n",
              "    fill: var(--button-hover-fill-color);\n",
              "  }\n",
              "\n",
              "  .colab-df-quickchart-complete:disabled,\n",
              "  .colab-df-quickchart-complete:disabled:hover {\n",
              "    background-color: var(--disabled-bg-color);\n",
              "    fill: var(--disabled-fill-color);\n",
              "    box-shadow: none;\n",
              "  }\n",
              "\n",
              "  .colab-df-spinner {\n",
              "    border: 2px solid var(--fill-color);\n",
              "    border-color: transparent;\n",
              "    border-bottom-color: var(--fill-color);\n",
              "    animation:\n",
              "      spin 1s steps(1) infinite;\n",
              "  }\n",
              "\n",
              "  @keyframes spin {\n",
              "    0% {\n",
              "      border-color: transparent;\n",
              "      border-bottom-color: var(--fill-color);\n",
              "      border-left-color: var(--fill-color);\n",
              "    }\n",
              "    20% {\n",
              "      border-color: transparent;\n",
              "      border-left-color: var(--fill-color);\n",
              "      border-top-color: var(--fill-color);\n",
              "    }\n",
              "    30% {\n",
              "      border-color: transparent;\n",
              "      border-left-color: var(--fill-color);\n",
              "      border-top-color: var(--fill-color);\n",
              "      border-right-color: var(--fill-color);\n",
              "    }\n",
              "    40% {\n",
              "      border-color: transparent;\n",
              "      border-right-color: var(--fill-color);\n",
              "      border-top-color: var(--fill-color);\n",
              "    }\n",
              "    60% {\n",
              "      border-color: transparent;\n",
              "      border-right-color: var(--fill-color);\n",
              "    }\n",
              "    80% {\n",
              "      border-color: transparent;\n",
              "      border-right-color: var(--fill-color);\n",
              "      border-bottom-color: var(--fill-color);\n",
              "    }\n",
              "    90% {\n",
              "      border-color: transparent;\n",
              "      border-bottom-color: var(--fill-color);\n",
              "    }\n",
              "  }\n",
              "</style>\n",
              "\n",
              "  <script>\n",
              "    async function quickchart(key) {\n",
              "      const quickchartButtonEl =\n",
              "        document.querySelector('#' + key + ' button');\n",
              "      quickchartButtonEl.disabled = true;  // To prevent multiple clicks.\n",
              "      quickchartButtonEl.classList.add('colab-df-spinner');\n",
              "      try {\n",
              "        const charts = await google.colab.kernel.invokeFunction(\n",
              "            'suggestCharts', [key], {});\n",
              "      } catch (error) {\n",
              "        console.error('Error during call to suggestCharts:', error);\n",
              "      }\n",
              "      quickchartButtonEl.classList.remove('colab-df-spinner');\n",
              "      quickchartButtonEl.classList.add('colab-df-quickchart-complete');\n",
              "    }\n",
              "    (() => {\n",
              "      let quickchartButtonEl =\n",
              "        document.querySelector('#df-5c19c85f-c3f5-42c0-9556-77676934ed1b button');\n",
              "      quickchartButtonEl.style.display =\n",
              "        google.colab.kernel.accessAllowed ? 'block' : 'none';\n",
              "    })();\n",
              "  </script>\n",
              "</div>\n",
              "\n",
              "    </div>\n",
              "  </div>\n"
            ],
            "application/vnd.google.colaboratory.intrinsic+json": {
              "type": "dataframe",
              "variable_name": "data"
            }
          },
          "metadata": {},
          "execution_count": 6
        }
      ],
      "source": [
        "data.head(n=5)\n"
      ]
    },
    {
      "cell_type": "code",
      "execution_count": 7,
      "metadata": {
        "id": "H9oFDiK-TGMk"
      },
      "outputs": [],
      "source": [
        "# Sample 10% of your data\n",
        "data = data.sample(frac=0.1, random_state=42)"
      ]
    },
    {
      "cell_type": "code",
      "execution_count": 8,
      "metadata": {
        "colab": {
          "base_uri": "https://localhost:8080/"
        },
        "id": "X1h9uJT_qkhD",
        "outputId": "413e4835-7b04-45c1-b060-83d464380dbb"
      },
      "outputs": [
        {
          "output_type": "stream",
          "name": "stdout",
          "text": [
            "            user                 date   size  label\n",
            "1375085  HWH0646  09/08/2010 09:48:21  53433      1\n",
            "1760687  EMW0772  11/18/2010 11:40:48  23746      0\n",
            "489761   HAD0246  03/29/2010 14:40:35  20984      0\n",
            "670295   ASB0796  04/30/2010 10:57:44  33996      1\n",
            "2611719  HCW0419  05/12/2011 11:45:23  37670      1\n"
          ]
        }
      ],
      "source": [
        "# Threshold ukuran (25KB)\n",
        "size_threshold = 25000\n",
        "\n",
        "# Fungsi untuk menentukan aktivitas di luar jam kerja\n",
        "def is_after_hours(date_str):\n",
        "    hour = pd.to_datetime(date_str).hour  # Ekstrak jam dari 'date'\n",
        "    return hour < 8 or hour > 18  # Jam kerja dianggap antara 08:00 - 18:00\n",
        "\n",
        "# Membuat label (1 = mencurigakan, 0 = normal)\n",
        "data['label'] = data.apply(lambda x:\n",
        "    1 if x['size'] > size_threshold or is_after_hours(x['date']) else 0, axis=1)\n",
        "\n",
        "# Cek hasil labeling\n",
        "print(data[['user', 'date', 'size', 'label']].head())\n"
      ]
    },
    {
      "cell_type": "code",
      "execution_count": 9,
      "metadata": {
        "colab": {
          "base_uri": "https://localhost:8080/"
        },
        "id": "RBbVHdZeEqjn",
        "outputId": "c81bc1bd-f1fe-449c-b5ba-e5279d41632b"
      },
      "outputs": [
        {
          "output_type": "stream",
          "name": "stdout",
          "text": [
            "label\n",
            "1    176616\n",
            "0     86382\n",
            "Name: count, dtype: int64\n",
            "Jumlah kelas unik: 2\n"
          ]
        }
      ],
      "source": [
        "# Misalkan kolom yang berisi label adalah 'type'\n",
        "# Menampilkan nilai unik dan jumlah setiap kelas\n",
        "kelas = data['label'].value_counts()\n",
        "print(kelas)\n",
        "\n",
        "# Menampilkan jumlah kelas unik\n",
        "jumlah_kelas = data['label'].nunique()\n",
        "print(f\"Jumlah kelas unik: {jumlah_kelas}\")\n"
      ]
    },
    {
      "cell_type": "code",
      "execution_count": 10,
      "metadata": {
        "colab": {
          "base_uri": "https://localhost:8080/"
        },
        "id": "Wr5n8RAoj324",
        "outputId": "05450811-4360-4d54-81e1-debe7ab6aa26"
      },
      "outputs": [
        {
          "output_type": "execute_result",
          "data": {
            "text/plain": [
              "(262998, 12)"
            ]
          },
          "metadata": {},
          "execution_count": 10
        }
      ],
      "source": [
        "data.shape\n"
      ]
    },
    {
      "cell_type": "markdown",
      "metadata": {
        "id": "4BXqrtHHkl1M"
      },
      "source": [
        "# **Data Visualization**"
      ]
    },
    {
      "cell_type": "code",
      "execution_count": 11,
      "metadata": {
        "colab": {
          "base_uri": "https://localhost:8080/"
        },
        "id": "7Ma7ESbApN3s",
        "outputId": "3fe9cd25-e55a-458f-c2c1-050b87ea0d30"
      },
      "outputs": [
        {
          "output_type": "stream",
          "name": "stdout",
          "text": [
            "Index(['id', 'date', 'user', 'pc', 'to', 'cc', 'bcc', 'from', 'size',\n",
            "       'attachments', 'content', 'label'],\n",
            "      dtype='object')\n"
          ]
        }
      ],
      "source": [
        "print(data.columns)\n"
      ]
    },
    {
      "cell_type": "code",
      "execution_count": 12,
      "metadata": {
        "colab": {
          "base_uri": "https://localhost:8080/"
        },
        "id": "qpqwGHA-wGDY",
        "outputId": "4d54e0af-2ec1-4f11-bea2-84ae478755d3"
      },
      "outputs": [
        {
          "output_type": "stream",
          "name": "stdout",
          "text": [
            "label\n",
            "1    176616\n",
            "0     86382\n",
            "Name: count, dtype: int64\n"
          ]
        }
      ],
      "source": [
        "print(data['label'].value_counts())\n"
      ]
    },
    {
      "cell_type": "code",
      "execution_count": 13,
      "metadata": {
        "colab": {
          "base_uri": "https://localhost:8080/",
          "height": 645
        },
        "id": "gu_33up2bn1r",
        "outputId": "4b40cd77-2bc4-4608-b492-f81f5b9ad383"
      },
      "outputs": [
        {
          "output_type": "stream",
          "name": "stdout",
          "text": [
            "Jumlah kelas unik: 2\n"
          ]
        },
        {
          "output_type": "display_data",
          "data": {
            "text/plain": [
              "<Figure size 800x600 with 1 Axes>"
            ],
            "image/png": "[encoded data removed]"
          },
          "metadata": {}
        }
      ],
      "source": [
        "import pandas as pd\n",
        "import matplotlib.pyplot as plt\n",
        "import seaborn as sns\n",
        "\n",
        "# Misalkan Anda telah menyiapkan DataFrame data\n",
        "# Gantilah 'label' dengan nilai string sesuai label Anda\n",
        "data['label'] = data['label'].replace({\n",
        "    0: \"Normal\",\n",
        "    1: \"Insider Threat\",\n",
        "})\n",
        "\n",
        "# Hitung jumlah kelas unik\n",
        "jumlah_kelas = data['label'].nunique()\n",
        "print(f\"Jumlah kelas unik: {jumlah_kelas}\")\n",
        "\n",
        "# Visualisasi distribusi kelas dengan nama\n",
        "plt.figure(figsize=(8, 6))\n",
        "sns.countplot(x='label', data=data)\n",
        "plt.title('Class Distribution')\n",
        "plt.xlabel('Label Kelas')\n",
        "plt.ylabel('Jumlah')\n",
        "plt.xticks(rotation=45)  # Memutar label sumbu x jika perlu\n",
        "plt.show()\n"
      ]
    },
    {
      "cell_type": "code",
      "execution_count": 14,
      "metadata": {
        "colab": {
          "base_uri": "https://localhost:8080/",
          "height": 521
        },
        "id": "AF4RB_uV1o2S",
        "outputId": "d7c14fa4-1ab1-4d3f-e75d-88832759fbf9"
      },
      "outputs": [
        {
          "output_type": "display_data",
          "data": {
            "text/plain": [
              "<Figure size 800x600 with 1 Axes>"
            ],
            "image/png": "[encoded data removed]"
          },
          "metadata": {}
        }
      ],
      "source": [
        "# Hitung jumlah setiap kelas\n",
        "kelas_count = data['label'].value_counts()\n",
        "\n",
        "# Buat pie chart\n",
        "plt.figure(figsize=(8, 6))\n",
        "plt.pie(kelas_count, labels=kelas_count.index, autopct='%1.1f%%', startangle=90, colors=['#ff9999','#66b3ff','#99ff99'])\n",
        "plt.axis('equal')  # Untuk membuat pie chart menjadi lingkaran\n",
        "plt.title('Distribusi Kelas')\n",
        "plt.show()\n"
      ]
    },
    {
      "cell_type": "code",
      "execution_count": 15,
      "metadata": {
        "colab": {
          "base_uri": "https://localhost:8080/"
        },
        "id": "JPhDO1FQ1NCs",
        "outputId": "b0d6f679-fabb-4b9f-fb49-0159e9877d11"
      },
      "outputs": [
        {
          "output_type": "stream",
          "name": "stdout",
          "text": [
            "label\n",
            "1    176616\n",
            "0     86382\n",
            "Name: count, dtype: int64\n"
          ]
        }
      ],
      "source": [
        "# Kembali ke format numerik\n",
        "data['label'] = data['label'].replace({\n",
        "    \"Normal\": 0,\n",
        "    \"Insider Threat\": 1\n",
        "}).astype(int)  # Pastikan kolom menjadi integer\n",
        "\n",
        "# Pastikan nilai kembali ke format numerik\n",
        "print(data['label'].value_counts())\n"
      ]
    },
    {
      "cell_type": "markdown",
      "metadata": {
        "id": "3-Y9E27L7hTr"
      },
      "source": [
        "# **DATA SPLITTING**"
      ]
    },
    {
      "cell_type": "code",
      "execution_count": 16,
      "metadata": {
        "id": "gltkj1QjniBo"
      },
      "outputs": [],
      "source": [
        "# 1. Mengimpor Modul yang Diperlukan\n",
        "import numpy as np\n",
        "import pandas as pd\n",
        "import seaborn as sns\n",
        "import matplotlib.pyplot as plt\n",
        "import pickle\n",
        "from os import path\n",
        "import torch\n",
        "import torch.nn as nn\n",
        "import torch.optim as optim\n",
        "from torch.utils.data import DataLoader, TensorDataset\n",
        "from sklearn.preprocessing import MinMaxScaler, LabelEncoder\n",
        "from sklearn.model_selection import train_test_split\n",
        "from sklearn.metrics import accuracy_score, confusion_matrix, precision_score, recall_score, f1_score\n"
      ]
    },
    {
      "cell_type": "code",
      "execution_count": 17,
      "metadata": {
        "id": "GtD5yKqjFtAb",
        "colab": {
          "base_uri": "https://localhost:8080/"
        },
        "outputId": "3fce13ad-7de7-44f0-d68d-79278d780a27"
      },
      "outputs": [
        {
          "output_type": "stream",
          "name": "stdout",
          "text": [
            "Ukuran set pelatihan: 210398\n",
            "Ukuran set pengujian: 52600\n"
          ]
        }
      ],
      "source": [
        "import pandas as pd\n",
        "from sklearn.model_selection import train_test_split\n",
        "\n",
        "# Memisahkan fitur dan target\n",
        "X = data.drop('label', axis=1)  # Fitur (semua kolom kecuali 'Label')\n",
        "y = data['label']                # Variabel target (kolom 'Label')\n",
        "\n",
        "# Membagi data menjadi set pelatihan (80%) dan set pengujian (20%)\n",
        "X_train_bin, X_test_bin, y_train_bin, y_test_bin = train_test_split(X, y, test_size=0.2, random_state=50)\n",
        "\n",
        "# Menampilkan informasi tentang ukuran set\n",
        "print(f'Ukuran set pelatihan: {X_train_bin.shape[0]}')\n",
        "print(f'Ukuran set pengujian: {X_test_bin.shape[0]}')\n"
      ]
    },
    {
      "cell_type": "code",
      "execution_count": 18,
      "metadata": {
        "id": "7XzxvA70c2og",
        "colab": {
          "base_uri": "https://localhost:8080/"
        },
        "outputId": "ccd67c4b-0189-4a09-c084-da5a9523bedd"
      },
      "outputs": [
        {
          "output_type": "stream",
          "name": "stdout",
          "text": [
            "Training data shape: (210398, 11)\n",
            "Testing data shape: (52600, 11)\n",
            "Training labels shape: (210398,)\n",
            "Testing labels shape: (52600,)\n"
          ]
        }
      ],
      "source": [
        "# Verify the shapes of the resulting datasets\n",
        "print(f\"Training data shape: {X_train_bin.shape}\")\n",
        "print(f\"Testing data shape: {X_test_bin.shape}\")\n",
        "print(f\"Training labels shape: {y_train_bin.shape}\")\n",
        "print(f\"Testing labels shape: {y_test_bin.shape}\")\n"
      ]
    },
    {
      "cell_type": "markdown",
      "metadata": {
        "id": "bDbU1Yy1Bfs_"
      },
      "source": [
        "# **LIBRARY TRANSFORMER**"
      ]
    },
    {
      "cell_type": "markdown",
      "metadata": {
        "id": "ItYfxZfX8AN0"
      },
      "source": [
        "Instalasi Paket yang Diperlukan"
      ]
    },
    {
      "cell_type": "markdown",
      "metadata": {
        "id": "EZi_80Sw8DAl"
      },
      "source": [
        "Instalasi paket: Menginstal berbagai paket yang diperlukan untuk pembelajaran mesin dan pemrosesan data."
      ]
    },
    {
      "cell_type": "code",
      "execution_count": 19,
      "metadata": {
        "id": "okNC-OGSQG9k",
        "colab": {
          "base_uri": "https://localhost:8080/"
        },
        "outputId": "476cd071-20fd-45e0-e621-a325abea0e62"
      },
      "outputs": [
        {
          "output_type": "stream",
          "name": "stdout",
          "text": [
            "Requirement already satisfied: transformers in /usr/local/lib/python3.10/dist-packages (4.44.2)\n",
            "Requirement already satisfied: tensorflow in /usr/local/lib/python3.10/dist-packages (2.17.0)\n",
            "Requirement already satisfied: scikit-learn in /usr/local/lib/python3.10/dist-packages (1.5.2)\n",
            "Requirement already satisfied: matplotlib in /usr/local/lib/python3.10/dist-packages (3.7.1)\n",
            "Requirement already satisfied: pandas in /usr/local/lib/python3.10/dist-packages (2.1.4)\n",
            "Requirement already satisfied: filelock in /usr/local/lib/python3.10/dist-packages (from transformers) (3.16.1)\n",
            "Requirement already satisfied: huggingface-hub<1.0,>=0.23.2 in /usr/local/lib/python3.10/dist-packages (from transformers) (0.24.7)\n",
            "Requirement already satisfied: numpy>=1.17 in /usr/local/lib/python3.10/dist-packages (from transformers) (1.26.4)\n",
            "Requirement already satisfied: packaging>=20.0 in /usr/local/lib/python3.10/dist-packages (from transformers) (24.1)\n",
            "Requirement already satisfied: pyyaml>=5.1 in /usr/local/lib/python3.10/dist-packages (from transformers) (6.0.2)\n",
            "Requirement already satisfied: regex!=2019.12.17 in /usr/local/lib/python3.10/dist-packages (from transformers) (2024.9.11)\n",
            "Requirement already satisfied: requests in /usr/local/lib/python3.10/dist-packages (from transformers) (2.32.3)\n",
            "Requirement already satisfied: safetensors>=0.4.1 in /usr/local/lib/python3.10/dist-packages (from transformers) (0.4.5)\n",
            "Requirement already satisfied: tokenizers<0.20,>=0.19 in /usr/local/lib/python3.10/dist-packages (from transformers) (0.19.1)\n",
            "Requirement already satisfied: tqdm>=4.27 in /usr/local/lib/python3.10/dist-packages (from transformers) (4.66.5)\n",
            "Requirement already satisfied: absl-py>=1.0.0 in /usr/local/lib/python3.10/dist-packages (from tensorflow) (1.4.0)\n",
            "Requirement already satisfied: astunparse>=1.6.0 in /usr/local/lib/python3.10/dist-packages (from tensorflow) (1.6.3)\n",
            "Requirement already satisfied: flatbuffers>=24.3.25 in /usr/local/lib/python3.10/dist-packages (from tensorflow) (24.3.25)\n",
            "Requirement already satisfied: gast!=0.5.0,!=0.5.1,!=0.5.2,>=0.2.1 in /usr/local/lib/python3.10/dist-packages (from tensorflow) (0.6.0)\n",
            "Requirement already satisfied: google-pasta>=0.1.1 in /usr/local/lib/python3.10/dist-packages (from tensorflow) (0.2.0)\n",
            "Requirement already satisfied: h5py>=3.10.0 in /usr/local/lib/python3.10/dist-packages (from tensorflow) (3.11.0)\n",
            "Requirement already satisfied: libclang>=13.0.0 in /usr/local/lib/python3.10/dist-packages (from tensorflow) (18.1.1)\n",
            "Requirement already satisfied: ml-dtypes<0.5.0,>=0.3.1 in /usr/local/lib/python3.10/dist-packages (from tensorflow) (0.4.1)\n",
            "Requirement already satisfied: opt-einsum>=2.3.2 in /usr/local/lib/python3.10/dist-packages (from tensorflow) (3.3.0)\n",
            "Requirement already satisfied: protobuf!=4.21.0,!=4.21.1,!=4.21.2,!=4.21.3,!=4.21.4,!=4.21.5,<5.0.0dev,>=3.20.3 in /usr/local/lib/python3.10/dist-packages (from tensorflow) (3.20.3)\n",
            "Requirement already satisfied: setuptools in /usr/local/lib/python3.10/dist-packages (from tensorflow) (71.0.4)\n",
            "Requirement already satisfied: six>=1.12.0 in /usr/local/lib/python3.10/dist-packages (from tensorflow) (1.16.0)\n",
            "Requirement already satisfied: termcolor>=1.1.0 in /usr/local/lib/python3.10/dist-packages (from tensorflow) (2.4.0)\n",
            "Requirement already satisfied: typing-extensions>=3.6.6 in /usr/local/lib/python3.10/dist-packages (from tensorflow) (4.12.2)\n",
            "Requirement already satisfied: wrapt>=1.11.0 in /usr/local/lib/python3.10/dist-packages (from tensorflow) (1.16.0)\n",
            "Requirement already satisfied: grpcio<2.0,>=1.24.3 in /usr/local/lib/python3.10/dist-packages (from tensorflow) (1.64.1)\n",
            "Requirement already satisfied: tensorboard<2.18,>=2.17 in /usr/local/lib/python3.10/dist-packages (from tensorflow) (2.17.0)\n",
            "Requirement already satisfied: keras>=3.2.0 in /usr/local/lib/python3.10/dist-packages (from tensorflow) (3.4.1)\n",
            "Requirement already satisfied: tensorflow-io-gcs-filesystem>=0.23.1 in /usr/local/lib/python3.10/dist-packages (from tensorflow) (0.37.1)\n",
            "Requirement already satisfied: scipy>=1.6.0 in /usr/local/lib/python3.10/dist-packages (from scikit-learn) (1.13.1)\n",
            "Requirement already satisfied: joblib>=1.2.0 in /usr/local/lib/python3.10/dist-packages (from scikit-learn) (1.4.2)\n",
            "Requirement already satisfied: threadpoolctl>=3.1.0 in /usr/local/lib/python3.10/dist-packages (from scikit-learn) (3.5.0)\n",
            "Requirement already satisfied: contourpy>=1.0.1 in /usr/local/lib/python3.10/dist-packages (from matplotlib) (1.3.0)\n",
            "Requirement already satisfied: cycler>=0.10 in /usr/local/lib/python3.10/dist-packages (from matplotlib) (0.12.1)\n",
            "Requirement already satisfied: fonttools>=4.22.0 in /usr/local/lib/python3.10/dist-packages (from matplotlib) (4.53.1)\n",
            "Requirement already satisfied: kiwisolver>=1.0.1 in /usr/local/lib/python3.10/dist-packages (from matplotlib) (1.4.7)\n",
            "Requirement already satisfied: pillow>=6.2.0 in /usr/local/lib/python3.10/dist-packages (from matplotlib) (10.4.0)\n",
            "Requirement already satisfied: pyparsing>=2.3.1 in /usr/local/lib/python3.10/dist-packages (from matplotlib) (3.1.4)\n",
            "Requirement already satisfied: python-dateutil>=2.7 in /usr/local/lib/python3.10/dist-packages (from matplotlib) (2.8.2)\n",
            "Requirement already satisfied: pytz>=2020.1 in /usr/local/lib/python3.10/dist-packages (from pandas) (2024.2)\n",
            "Requirement already satisfied: tzdata>=2022.1 in /usr/local/lib/python3.10/dist-packages (from pandas) (2024.1)\n",
            "Requirement already satisfied: wheel<1.0,>=0.23.0 in /usr/local/lib/python3.10/dist-packages (from astunparse>=1.6.0->tensorflow) (0.44.0)\n",
            "Requirement already satisfied: fsspec>=2023.5.0 in /usr/local/lib/python3.10/dist-packages (from huggingface-hub<1.0,>=0.23.2->transformers) (2024.6.1)\n",
            "Requirement already satisfied: rich in /usr/local/lib/python3.10/dist-packages (from keras>=3.2.0->tensorflow) (13.8.1)\n",
            "Requirement already satisfied: namex in /usr/local/lib/python3.10/dist-packages (from keras>=3.2.0->tensorflow) (0.0.8)\n",
            "Requirement already satisfied: optree in /usr/local/lib/python3.10/dist-packages (from keras>=3.2.0->tensorflow) (0.12.1)\n",
            "Requirement already satisfied: charset-normalizer<4,>=2 in /usr/local/lib/python3.10/dist-packages (from requests->transformers) (3.3.2)\n",
            "Requirement already satisfied: idna<4,>=2.5 in /usr/local/lib/python3.10/dist-packages (from requests->transformers) (3.10)\n",
            "Requirement already satisfied: urllib3<3,>=1.21.1 in /usr/local/lib/python3.10/dist-packages (from requests->transformers) (2.2.3)\n",
            "Requirement already satisfied: certifi>=2017.4.17 in /usr/local/lib/python3.10/dist-packages (from requests->transformers) (2024.8.30)\n",
            "Requirement already satisfied: markdown>=2.6.8 in /usr/local/lib/python3.10/dist-packages (from tensorboard<2.18,>=2.17->tensorflow) (3.7)\n",
            "Requirement already satisfied: tensorboard-data-server<0.8.0,>=0.7.0 in /usr/local/lib/python3.10/dist-packages (from tensorboard<2.18,>=2.17->tensorflow) (0.7.2)\n",
            "Requirement already satisfied: werkzeug>=1.0.1 in /usr/local/lib/python3.10/dist-packages (from tensorboard<2.18,>=2.17->tensorflow) (3.0.4)\n",
            "Requirement already satisfied: MarkupSafe>=2.1.1 in /usr/local/lib/python3.10/dist-packages (from werkzeug>=1.0.1->tensorboard<2.18,>=2.17->tensorflow) (2.1.5)\n",
            "Requirement already satisfied: markdown-it-py>=2.2.0 in /usr/local/lib/python3.10/dist-packages (from rich->keras>=3.2.0->tensorflow) (3.0.0)\n",
            "Requirement already satisfied: pygments<3.0.0,>=2.13.0 in /usr/local/lib/python3.10/dist-packages (from rich->keras>=3.2.0->tensorflow) (2.18.0)\n",
            "Requirement already satisfied: mdurl~=0.1 in /usr/local/lib/python3.10/dist-packages (from markdown-it-py>=2.2.0->rich->keras>=3.2.0->tensorflow) (0.1.2)\n"
          ]
        }
      ],
      "source": [
        "!pip install transformers tensorflow scikit-learn matplotlib pandas\n"
      ]
    },
    {
      "cell_type": "code",
      "execution_count": 20,
      "metadata": {
        "id": "ZVH1Q53IB8qs",
        "colab": {
          "base_uri": "https://localhost:8080/"
        },
        "outputId": "6774a851-720e-41d6-f4dd-19b4fc25df52"
      },
      "outputs": [
        {
          "output_type": "stream",
          "name": "stdout",
          "text": [
            "Requirement already satisfied: transformers in /usr/local/lib/python3.10/dist-packages (4.44.2)\n",
            "Requirement already satisfied: torch in /usr/local/lib/python3.10/dist-packages (2.4.1+cu121)\n",
            "Requirement already satisfied: scikit-learn in /usr/local/lib/python3.10/dist-packages (1.5.2)\n",
            "Requirement already satisfied: filelock in /usr/local/lib/python3.10/dist-packages (from transformers) (3.16.1)\n",
            "Requirement already satisfied: huggingface-hub<1.0,>=0.23.2 in /usr/local/lib/python3.10/dist-packages (from transformers) (0.24.7)\n",
            "Requirement already satisfied: numpy>=1.17 in /usr/local/lib/python3.10/dist-packages (from transformers) (1.26.4)\n",
            "Requirement already satisfied: packaging>=20.0 in /usr/local/lib/python3.10/dist-packages (from transformers) (24.1)\n",
            "Requirement already satisfied: pyyaml>=5.1 in /usr/local/lib/python3.10/dist-packages (from transformers) (6.0.2)\n",
            "Requirement already satisfied: regex!=2019.12.17 in /usr/local/lib/python3.10/dist-packages (from transformers) (2024.9.11)\n",
            "Requirement already satisfied: requests in /usr/local/lib/python3.10/dist-packages (from transformers) (2.32.3)\n",
            "Requirement already satisfied: safetensors>=0.4.1 in /usr/local/lib/python3.10/dist-packages (from transformers) (0.4.5)\n",
            "Requirement already satisfied: tokenizers<0.20,>=0.19 in /usr/local/lib/python3.10/dist-packages (from transformers) (0.19.1)\n",
            "Requirement already satisfied: tqdm>=4.27 in /usr/local/lib/python3.10/dist-packages (from transformers) (4.66.5)\n",
            "Requirement already satisfied: typing-extensions>=4.8.0 in /usr/local/lib/python3.10/dist-packages (from torch) (4.12.2)\n",
            "Requirement already satisfied: sympy in /usr/local/lib/python3.10/dist-packages (from torch) (1.13.3)\n",
            "Requirement already satisfied: networkx in /usr/local/lib/python3.10/dist-packages (from torch) (3.3)\n",
            "Requirement already satisfied: jinja2 in /usr/local/lib/python3.10/dist-packages (from torch) (3.1.4)\n",
            "Requirement already satisfied: fsspec in /usr/local/lib/python3.10/dist-packages (from torch) (2024.6.1)\n",
            "Requirement already satisfied: scipy>=1.6.0 in /usr/local/lib/python3.10/dist-packages (from scikit-learn) (1.13.1)\n",
            "Requirement already satisfied: joblib>=1.2.0 in /usr/local/lib/python3.10/dist-packages (from scikit-learn) (1.4.2)\n",
            "Requirement already satisfied: threadpoolctl>=3.1.0 in /usr/local/lib/python3.10/dist-packages (from scikit-learn) (3.5.0)\n",
            "Requirement already satisfied: MarkupSafe>=2.0 in /usr/local/lib/python3.10/dist-packages (from jinja2->torch) (2.1.5)\n",
            "Requirement already satisfied: charset-normalizer<4,>=2 in /usr/local/lib/python3.10/dist-packages (from requests->transformers) (3.3.2)\n",
            "Requirement already satisfied: idna<4,>=2.5 in /usr/local/lib/python3.10/dist-packages (from requests->transformers) (3.10)\n",
            "Requirement already satisfied: urllib3<3,>=1.21.1 in /usr/local/lib/python3.10/dist-packages (from requests->transformers) (2.2.3)\n",
            "Requirement already satisfied: certifi>=2017.4.17 in /usr/local/lib/python3.10/dist-packages (from requests->transformers) (2024.8.30)\n",
            "Requirement already satisfied: mpmath<1.4,>=1.1.0 in /usr/local/lib/python3.10/dist-packages (from sympy->torch) (1.3.0)\n"
          ]
        }
      ],
      "source": [
        "!pip install transformers torch scikit-learn\n"
      ]
    },
    {
      "cell_type": "markdown",
      "metadata": {
        "id": "Dkp1uQW5Sb46"
      },
      "source": [
        "# **1. TRANSFORMER \"ENCODER\"**"
      ]
    },
    {
      "cell_type": "markdown",
      "metadata": {
        "id": "aPcQLHgdnIfV"
      },
      "source": [
        "# **CLASSIFICATION Non-Tuning**"
      ]
    },
    {
      "cell_type": "code",
      "execution_count": null,
      "metadata": {
        "colab": {
          "base_uri": "https://localhost:8080/",
          "height": 1000
        },
        "id": "JfI23Hy7afH8",
        "outputId": "82161475-cb63-4db9-f4e3-9c835606273f"
      },
      "outputs": [
        {
          "output_type": "stream",
          "name": "stdout",
          "text": [
            "Fold 1\n",
            "Early stopping triggered at epoch 6\n",
            "Accuracy for fold 1: 67.09%\n",
            "F1 Score for fold 1: 0.5387\n",
            "              precision    recall  f1-score   support\n",
            "\n",
            "           0       0.00      0.00      0.00      8656\n",
            "           1       0.67      1.00      0.80     17644\n",
            "\n",
            "    accuracy                           0.67     26300\n",
            "   macro avg       0.34      0.50      0.40     26300\n",
            "weighted avg       0.45      0.67      0.54     26300\n",
            "\n"
          ]
        },
        {
          "output_type": "stream",
          "name": "stderr",
          "text": [
            "/usr/local/lib/python3.10/dist-packages/sklearn/metrics/_classification.py:1531: UndefinedMetricWarning: Precision is ill-defined and being set to 0.0 in labels with no predicted samples. Use `zero_division` parameter to control this behavior.\n",
            "  _warn_prf(average, modifier, f\"{metric.capitalize()} is\", len(result))\n",
            "/usr/local/lib/python3.10/dist-packages/sklearn/metrics/_classification.py:1531: UndefinedMetricWarning: Precision is ill-defined and being set to 0.0 in labels with no predicted samples. Use `zero_division` parameter to control this behavior.\n",
            "  _warn_prf(average, modifier, f\"{metric.capitalize()} is\", len(result))\n",
            "/usr/local/lib/python3.10/dist-packages/sklearn/metrics/_classification.py:1531: UndefinedMetricWarning: Precision is ill-defined and being set to 0.0 in labels with no predicted samples. Use `zero_division` parameter to control this behavior.\n",
            "  _warn_prf(average, modifier, f\"{metric.capitalize()} is\", len(result))\n"
          ]
        },
        {
          "output_type": "display_data",
          "data": {
            "text/plain": [
              "<Figure size 600x400 with 1 Axes>"
            ],
            "image/png": "[encoded data removed]"
          },
          "metadata": {}
        },
        {
          "output_type": "stream",
          "name": "stdout",
          "text": [
            "Fold 2\n",
            "Early stopping triggered at epoch 6\n",
            "Accuracy for fold 2: 67.42%\n",
            "F1 Score for fold 2: 0.5430\n",
            "              precision    recall  f1-score   support\n",
            "\n",
            "           0       0.00      0.00      0.00      8568\n",
            "           1       0.67      1.00      0.81     17732\n",
            "\n",
            "    accuracy                           0.67     26300\n",
            "   macro avg       0.34      0.50      0.40     26300\n",
            "weighted avg       0.45      0.67      0.54     26300\n",
            "\n"
          ]
        },
        {
          "output_type": "stream",
          "name": "stderr",
          "text": [
            "/usr/local/lib/python3.10/dist-packages/sklearn/metrics/_classification.py:1531: UndefinedMetricWarning: Precision is ill-defined and being set to 0.0 in labels with no predicted samples. Use `zero_division` parameter to control this behavior.\n",
            "  _warn_prf(average, modifier, f\"{metric.capitalize()} is\", len(result))\n",
            "/usr/local/lib/python3.10/dist-packages/sklearn/metrics/_classification.py:1531: UndefinedMetricWarning: Precision is ill-defined and being set to 0.0 in labels with no predicted samples. Use `zero_division` parameter to control this behavior.\n",
            "  _warn_prf(average, modifier, f\"{metric.capitalize()} is\", len(result))\n",
            "/usr/local/lib/python3.10/dist-packages/sklearn/metrics/_classification.py:1531: UndefinedMetricWarning: Precision is ill-defined and being set to 0.0 in labels with no predicted samples. Use `zero_division` parameter to control this behavior.\n",
            "  _warn_prf(average, modifier, f\"{metric.capitalize()} is\", len(result))\n"
          ]
        },
        {
          "output_type": "display_data",
          "data": {
            "text/plain": [
              "<Figure size 600x400 with 1 Axes>"
            ],
            "image/png": "[encoded data removed]"
          },
          "metadata": {}
        },
        {
          "output_type": "stream",
          "name": "stdout",
          "text": [
            "Fold 3\n",
            "Early stopping triggered at epoch 6\n",
            "Accuracy for fold 3: 66.97%\n",
            "F1 Score for fold 3: 0.5372\n",
            "              precision    recall  f1-score   support\n",
            "\n",
            "           0       0.00      0.00      0.00      8688\n",
            "           1       0.67      1.00      0.80     17612\n",
            "\n",
            "    accuracy                           0.67     26300\n",
            "   macro avg       0.33      0.50      0.40     26300\n",
            "weighted avg       0.45      0.67      0.54     26300\n",
            "\n"
          ]
        },
        {
          "output_type": "stream",
          "name": "stderr",
          "text": [
            "/usr/local/lib/python3.10/dist-packages/sklearn/metrics/_classification.py:1531: UndefinedMetricWarning: Precision is ill-defined and being set to 0.0 in labels with no predicted samples. Use `zero_division` parameter to control this behavior.\n",
            "  _warn_prf(average, modifier, f\"{metric.capitalize()} is\", len(result))\n",
            "/usr/local/lib/python3.10/dist-packages/sklearn/metrics/_classification.py:1531: UndefinedMetricWarning: Precision is ill-defined and being set to 0.0 in labels with no predicted samples. Use `zero_division` parameter to control this behavior.\n",
            "  _warn_prf(average, modifier, f\"{metric.capitalize()} is\", len(result))\n",
            "/usr/local/lib/python3.10/dist-packages/sklearn/metrics/_classification.py:1531: UndefinedMetricWarning: Precision is ill-defined and being set to 0.0 in labels with no predicted samples. Use `zero_division` parameter to control this behavior.\n",
            "  _warn_prf(average, modifier, f\"{metric.capitalize()} is\", len(result))\n"
          ]
        },
        {
          "output_type": "display_data",
          "data": {
            "text/plain": [
              "<Figure size 600x400 with 1 Axes>"
            ],
            "image/png": "[encoded data removed]"
          },
          "metadata": {}
        },
        {
          "output_type": "stream",
          "name": "stdout",
          "text": [
            "Fold 4\n",
            "Early stopping triggered at epoch 6\n",
            "Accuracy for fold 4: 67.62%\n",
            "F1 Score for fold 4: 0.5455\n",
            "              precision    recall  f1-score   support\n",
            "\n",
            "           0       0.00      0.00      0.00      8517\n",
            "           1       0.68      1.00      0.81     17783\n",
            "\n",
            "    accuracy                           0.68     26300\n",
            "   macro avg       0.34      0.50      0.40     26300\n",
            "weighted avg       0.46      0.68      0.55     26300\n",
            "\n"
          ]
        },
        {
          "output_type": "stream",
          "name": "stderr",
          "text": [
            "/usr/local/lib/python3.10/dist-packages/sklearn/metrics/_classification.py:1531: UndefinedMetricWarning: Precision is ill-defined and being set to 0.0 in labels with no predicted samples. Use `zero_division` parameter to control this behavior.\n",
            "  _warn_prf(average, modifier, f\"{metric.capitalize()} is\", len(result))\n",
            "/usr/local/lib/python3.10/dist-packages/sklearn/metrics/_classification.py:1531: UndefinedMetricWarning: Precision is ill-defined and being set to 0.0 in labels with no predicted samples. Use `zero_division` parameter to control this behavior.\n",
            "  _warn_prf(average, modifier, f\"{metric.capitalize()} is\", len(result))\n",
            "/usr/local/lib/python3.10/dist-packages/sklearn/metrics/_classification.py:1531: UndefinedMetricWarning: Precision is ill-defined and being set to 0.0 in labels with no predicted samples. Use `zero_division` parameter to control this behavior.\n",
            "  _warn_prf(average, modifier, f\"{metric.capitalize()} is\", len(result))\n"
          ]
        },
        {
          "output_type": "display_data",
          "data": {
            "text/plain": [
              "<Figure size 600x400 with 1 Axes>"
            ],
            "image/png": "[encoded data removed]"
          },
          "metadata": {}
        },
        {
          "output_type": "stream",
          "name": "stdout",
          "text": [
            "Fold 5\n",
            "Early stopping triggered at epoch 6\n",
            "Accuracy for fold 5: 66.97%\n",
            "F1 Score for fold 5: 0.5372\n",
            "              precision    recall  f1-score   support\n",
            "\n",
            "           0       0.00      0.00      0.00      8688\n",
            "           1       0.67      1.00      0.80     17612\n",
            "\n",
            "    accuracy                           0.67     26300\n",
            "   macro avg       0.33      0.50      0.40     26300\n",
            "weighted avg       0.45      0.67      0.54     26300\n",
            "\n"
          ]
        },
        {
          "output_type": "stream",
          "name": "stderr",
          "text": [
            "/usr/local/lib/python3.10/dist-packages/sklearn/metrics/_classification.py:1531: UndefinedMetricWarning: Precision is ill-defined and being set to 0.0 in labels with no predicted samples. Use `zero_division` parameter to control this behavior.\n",
            "  _warn_prf(average, modifier, f\"{metric.capitalize()} is\", len(result))\n",
            "/usr/local/lib/python3.10/dist-packages/sklearn/metrics/_classification.py:1531: UndefinedMetricWarning: Precision is ill-defined and being set to 0.0 in labels with no predicted samples. Use `zero_division` parameter to control this behavior.\n",
            "  _warn_prf(average, modifier, f\"{metric.capitalize()} is\", len(result))\n",
            "/usr/local/lib/python3.10/dist-packages/sklearn/metrics/_classification.py:1531: UndefinedMetricWarning: Precision is ill-defined and being set to 0.0 in labels with no predicted samples. Use `zero_division` parameter to control this behavior.\n",
            "  _warn_prf(average, modifier, f\"{metric.capitalize()} is\", len(result))\n"
          ]
        },
        {
          "output_type": "display_data",
          "data": {
            "text/plain": [
              "<Figure size 600x400 with 1 Axes>"
            ],
            "image/png": "[encoded data removed]"
          },
          "metadata": {}
        },
        {
          "output_type": "stream",
          "name": "stdout",
          "text": [
            "Fold 6\n",
            "Early stopping triggered at epoch 6\n",
            "Accuracy for fold 6: 67.15%\n",
            "F1 Score for fold 6: 0.5396\n",
            "              precision    recall  f1-score   support\n",
            "\n",
            "           0       0.00      0.00      0.00      8639\n",
            "           1       0.67      1.00      0.80     17661\n",
            "\n",
            "    accuracy                           0.67     26300\n",
            "   macro avg       0.34      0.50      0.40     26300\n",
            "weighted avg       0.45      0.67      0.54     26300\n",
            "\n"
          ]
        },
        {
          "output_type": "stream",
          "name": "stderr",
          "text": [
            "/usr/local/lib/python3.10/dist-packages/sklearn/metrics/_classification.py:1531: UndefinedMetricWarning: Precision is ill-defined and being set to 0.0 in labels with no predicted samples. Use `zero_division` parameter to control this behavior.\n",
            "  _warn_prf(average, modifier, f\"{metric.capitalize()} is\", len(result))\n",
            "/usr/local/lib/python3.10/dist-packages/sklearn/metrics/_classification.py:1531: UndefinedMetricWarning: Precision is ill-defined and being set to 0.0 in labels with no predicted samples. Use `zero_division` parameter to control this behavior.\n",
            "  _warn_prf(average, modifier, f\"{metric.capitalize()} is\", len(result))\n",
            "/usr/local/lib/python3.10/dist-packages/sklearn/metrics/_classification.py:1531: UndefinedMetricWarning: Precision is ill-defined and being set to 0.0 in labels with no predicted samples. Use `zero_division` parameter to control this behavior.\n",
            "  _warn_prf(average, modifier, f\"{metric.capitalize()} is\", len(result))\n"
          ]
        },
        {
          "output_type": "display_data",
          "data": {
            "text/plain": [
              "<Figure size 600x400 with 1 Axes>"
            ],
            "image/png": "[encoded data removed]"
          },
          "metadata": {}
        },
        {
          "output_type": "stream",
          "name": "stdout",
          "text": [
            "Fold 7\n",
            "Early stopping triggered at epoch 6\n",
            "Accuracy for fold 7: 67.24%\n",
            "F1 Score for fold 7: 0.5407\n",
            "              precision    recall  f1-score   support\n",
            "\n",
            "           0       0.00      0.00      0.00      8616\n",
            "           1       0.67      1.00      0.80     17684\n",
            "\n",
            "    accuracy                           0.67     26300\n",
            "   macro avg       0.34      0.50      0.40     26300\n",
            "weighted avg       0.45      0.67      0.54     26300\n",
            "\n"
          ]
        },
        {
          "output_type": "stream",
          "name": "stderr",
          "text": [
            "/usr/local/lib/python3.10/dist-packages/sklearn/metrics/_classification.py:1531: UndefinedMetricWarning: Precision is ill-defined and being set to 0.0 in labels with no predicted samples. Use `zero_division` parameter to control this behavior.\n",
            "  _warn_prf(average, modifier, f\"{metric.capitalize()} is\", len(result))\n",
            "/usr/local/lib/python3.10/dist-packages/sklearn/metrics/_classification.py:1531: UndefinedMetricWarning: Precision is ill-defined and being set to 0.0 in labels with no predicted samples. Use `zero_division` parameter to control this behavior.\n",
            "  _warn_prf(average, modifier, f\"{metric.capitalize()} is\", len(result))\n",
            "/usr/local/lib/python3.10/dist-packages/sklearn/metrics/_classification.py:1531: UndefinedMetricWarning: Precision is ill-defined and being set to 0.0 in labels with no predicted samples. Use `zero_division` parameter to control this behavior.\n",
            "  _warn_prf(average, modifier, f\"{metric.capitalize()} is\", len(result))\n"
          ]
        },
        {
          "output_type": "display_data",
          "data": {
            "text/plain": [
              "<Figure size 600x400 with 1 Axes>"
            ],
            "image/png": "[encoded data removed]"
          },
          "metadata": {}
        },
        {
          "output_type": "stream",
          "name": "stdout",
          "text": [
            "Fold 8\n"
          ]
        }
      ],
      "source": [
        "import pandas as pd\n",
        "import numpy as np\n",
        "from sklearn.model_selection import KFold\n",
        "from sklearn.metrics import classification_report, accuracy_score, confusion_matrix, f1_score\n",
        "from sklearn.preprocessing import LabelEncoder\n",
        "import torch\n",
        "import torch.nn as nn\n",
        "from torch.utils.data import DataLoader, TensorDataset\n",
        "import matplotlib.pyplot as plt\n",
        "import seaborn as sns\n",
        "\n",
        "# 1. Load data\n",
        "#data = pd.read_csv('email.csv')\n",
        "# 2. Preprocessing: Label Encoding\n",
        "le1 = LabelEncoder()\n",
        "data['label'] = le1.fit_transform(data['label'])  # Ganti 'Label' sesuai dengan nama kolom asli\n",
        "class_names = le1.classes_\n",
        "\n",
        "# Cek apakah ada nilai hilang dan ganti dengan nilai yang sesuai\n",
        "data.fillna(0, inplace=True)  # Mengisi nilai hilang dengan 0\n",
        "\n",
        "# 3. Define Transformer Model\n",
        "class TransformerModel(nn.Module):\n",
        "    def __init__(self, input_dim, num_classes, d_model=64, nhead=2, num_layers=2):\n",
        "        super(TransformerModel, self).__init__()\n",
        "        self.embedding = nn.Linear(input_dim, d_model)  # Embedding Layer: Mengonversi input menjadi dimensi d_model\n",
        "        self.transformer_encoder = nn.TransformerEncoder(\n",
        "            nn.TransformerEncoderLayer(d_model=d_model, nhead=nhead, batch_first=True),\n",
        "            num_layers=num_layers # Menerapkan lapisan Transformer untuk menghasilkan representasi fitur\n",
        "        )\n",
        "        self.fc = nn.Linear(d_model, num_classes)  # Output layer\n",
        "\n",
        "    def forward(self, x):\n",
        "        x = self.embedding(x)  # Mengonversi input ke dimensi d_model\n",
        "        x = x.unsqueeze(1)  # Tambahkan dimensi sequence (batch_size, seq_length, feature_dim)\n",
        "        x = self.transformer_encoder(x)  # Memasukkan input ke Transformer\n",
        "        x = x.mean(dim=1)  # Average pooling\n",
        "        return self.fc(x)  # Final output untuk klasifikasi\n",
        "\n",
        "# 4. KFold Cross-Validation\n",
        "kf = KFold(n_splits=10, shuffle=True, random_state=50)\n",
        "all_accuracy, all_f1_scores = [], []\n",
        "conf_matrix_list = []\n",
        "average_train_losses = []  # List to store average train losses for plotting\n",
        "average_val_accuracies = []  # List to store validation accuracies for plotting\n",
        "\n",
        "for fold, (train_index, val_index) in enumerate(kf.split(data)):\n",
        "    print(f'Fold {fold + 1}')\n",
        "\n",
        "    # Split data using .iloc to select rows by index\n",
        "    X_train, X_val = data.drop(columns=['label']).iloc[train_index], data.drop(columns=['label']).iloc[val_index]\n",
        "    y_train, y_val = data['label'].iloc[train_index], data['label'].iloc[val_index]\n",
        "\n",
        "    numeric_columns = ['size', 'attachments'] #Hanya kolom numerik (size, attachments) yang digunakan untuk mengonversi data ke Tensor PyTorch agar bisa digunakan dalam model.\n",
        "\n",
        "    # 2. Konversi ke PyTorch tensors\n",
        "    X_train_tensor = torch.FloatTensor(X_train[numeric_columns].values)  # Ambil hanya kolom numerik\n",
        "    y_train_tensor = torch.LongTensor(y_train.values)\n",
        "    X_val_tensor = torch.FloatTensor(X_val[numeric_columns].values)  # Ambil hanya kolom numerik\n",
        "    y_val_tensor = torch.LongTensor(y_val.values)\n",
        "\n",
        "\n",
        "    # Create DataLoader\n",
        "    train_dataset = TensorDataset(X_train_tensor, y_train_tensor)\n",
        "    train_loader = DataLoader(train_dataset, batch_size=16, shuffle=True)\n",
        "\n",
        "    # Initialize the model\n",
        "    model = TransformerModel(input_dim=X_train_tensor.shape[1], num_classes=len(class_names))\n",
        "    criterion = nn.CrossEntropyLoss()\n",
        "    optimizer = torch.optim.Adam(model.parameters(), lr=0.001)\n",
        "\n",
        "    # Early stopping setup\n",
        "    best_accuracy = 0\n",
        "    patience, trigger_times = 5, 0\n",
        "\n",
        "    # Train the model\n",
        "    num_epochs = 20  # Meningkatkan jumlah epoch\n",
        "    train_losses = []  # List untuk menyimpan loss per epoch\n",
        "    val_accuracies = []  # List untuk menyimpan akurasi per epoch\n",
        "\n",
        "    for epoch in range(num_epochs):\n",
        "        model.train()\n",
        "        epoch_loss = 0\n",
        "        for inputs, labels in train_loader:\n",
        "            optimizer.zero_grad()\n",
        "            outputs = model(inputs)\n",
        "            loss = criterion(outputs, labels)\n",
        "            loss.backward()\n",
        "            optimizer.step()\n",
        "            epoch_loss += loss.item()\n",
        "\n",
        "        avg_loss = epoch_loss / len(train_loader)\n",
        "        train_losses.append(avg_loss)\n",
        "\n",
        "        # Validate the model\n",
        "        model.eval()\n",
        "        with torch.no_grad():\n",
        "            y_pred_probs = model(X_val_tensor)\n",
        "            _, y_pred = torch.max(y_pred_probs, 1)\n",
        "\n",
        "        accuracy = accuracy_score(y_val, y_pred.numpy())\n",
        "        val_accuracies.append(accuracy)\n",
        "\n",
        "        # Save the best model\n",
        "        if accuracy > best_accuracy:\n",
        "            best_accuracy = accuracy\n",
        "            torch.save(model.state_dict(), f'model_best_fold_{fold + 1}.pt')\n",
        "            trigger_times = 0\n",
        "        else:\n",
        "            trigger_times += 1\n",
        "\n",
        "        if trigger_times >= patience:\n",
        "            print(f'Early stopping triggered at epoch {epoch + 1}')\n",
        "            break\n",
        "\n",
        "    # Metrics calculation\n",
        "    conf_matrix = confusion_matrix(y_val, y_pred.numpy())\n",
        "    conf_matrix_list.append(conf_matrix)\n",
        "    all_accuracy.append(accuracy)\n",
        "\n",
        "    f1 = f1_score(y_val, y_pred.numpy(), average='weighted')\n",
        "    all_f1_scores.append(f1)\n",
        "\n",
        "    # Print results for the current fold\n",
        "    print(f'Accuracy for fold {fold + 1}: {accuracy * 100:.2f}%')\n",
        "    print(f'F1 Score for fold {fold + 1}: {f1:.4f}')\n",
        "    #cls_report = classification_report(y_val, y_pred.numpy(), target_names=class_names)\n",
        "    cls_report = classification_report(y_val, y_pred.numpy())\n",
        "    print(cls_report)\n",
        "\n",
        "    # Store average loss and accuracy for plotting\n",
        "    average_train_losses.append(train_losses)\n",
        "    average_val_accuracies.append(val_accuracies)\n",
        "\n",
        "    # Plot confusion matrix for the current fold\n",
        "    plt.figure(figsize=(6, 4))\n",
        "    sns.heatmap(conf_matrix, annot=True, fmt='.0f', cmap='Blues', cbar=False,\n",
        "                xticklabels=class_names, yticklabels=class_names)\n",
        "    plt.xlabel('Predicted Label')\n",
        "    plt.ylabel('True Label')\n",
        "    plt.title(f'Confusion Matrix for Fold {fold + 1}')\n",
        "    plt.show()\n",
        "\n",
        "# 5. Average Metrics Across All Folds\n",
        "print(f'Average Accuracy: {np.mean(all_accuracy) * 100:.2f}%')\n",
        "print(f'Average F1 Score: {np.mean(all_f1_scores):.4f}')\n",
        "\n",
        "# 6. Plot the Average Confusion Matrix\n",
        "average_conf_matrix = np.mean(conf_matrix_list, axis=0)\n",
        "\n",
        "plt.figure(figsize=(8, 6))\n",
        "sns.heatmap(average_conf_matrix, annot=True, fmt='.0f', cmap='Blues', cbar=False,\n",
        "            xticklabels=class_names, yticklabels=class_names)\n",
        "plt.xlabel('Predicted Label')\n",
        "plt.ylabel('True Label')\n",
        "plt.title('Average Confusion Matrix Across Folds')\n",
        "plt.show()\n",
        "\n",
        "# 7. Analysis of Results\n",
        "print(\"Hasil Deteksi:\")\n",
        "for i, (acc, f1) in enumerate(zip(all_accuracy, all_f1_scores)):\n",
        "    print(f'Fold {i + 1}: Akurasi = {acc * 100:.2f}%, F1 Score = {f1:.4f}')\n",
        "\n",
        "# 8. Plot Loss and Accuracy for Each Fold\n",
        "for fold in range(len(average_train_losses)):\n",
        "    plt.figure(figsize=(12, 5))\n",
        "\n",
        "    # Grafik Loss\n",
        "    plt.subplot(1, 2, 1)\n",
        "    plt.plot(average_train_losses[fold], label='Training Loss', marker='o')\n",
        "    plt.title(f'Training Loss for Fold {fold + 1}')\n",
        "    plt.xlabel('Epochs')\n",
        "    plt.ylabel('Loss')\n",
        "    plt.legend()\n",
        "    plt.grid()\n",
        "\n",
        "    # Grafik Akurasi\n",
        "    plt.subplot(1, 2, 2)\n",
        "    plt.plot(average_val_accuracies[fold], label='Validation Accuracy', marker='o')\n",
        "    plt.title(f'Validation Accuracy for Fold {fold + 1}')\n",
        "    plt.xlabel('Epochs')\n",
        "    plt.ylabel('Accuracy')\n",
        "    plt.legend()\n",
        "    plt.grid()\n",
        "\n",
        "    plt.tight_layout()\n",
        "    plt.show()\n"
      ]
    },
    {
      "cell_type": "markdown",
      "metadata": {
        "id": "UGcGz1c07fNo"
      },
      "source": [
        "# **Hyperparameter Tuning**"
      ]
    },
    {
      "cell_type": "code",
      "execution_count": null,
      "metadata": {
        "colab": {
          "base_uri": "https://localhost:8080/"
        },
        "id": "lIdpmEOj8Fnp",
        "outputId": "6ac821b5-86c3-4a12-9e50-772f1df9da19"
      },
      "outputs": [
        {
          "name": "stdout",
          "output_type": "stream",
          "text": [
            "Training with lr=0.001, batch_size=16, nhead=2\n",
            "Validation Accuracy: 88.19%\n",
            "Training with lr=0.001, batch_size=16, nhead=4\n",
            "Validation Accuracy: 92.90%\n",
            "Training with lr=0.001, batch_size=32, nhead=2\n",
            "Validation Accuracy: 91.98%\n",
            "Training with lr=0.001, batch_size=32, nhead=4\n",
            "Validation Accuracy: 92.77%\n",
            "Training with lr=0.0005, batch_size=16, nhead=2\n",
            "Validation Accuracy: 93.05%\n",
            "Training with lr=0.0005, batch_size=16, nhead=4\n",
            "Validation Accuracy: 93.29%\n",
            "Training with lr=0.0005, batch_size=32, nhead=2\n",
            "Validation Accuracy: 91.39%\n",
            "Training with lr=0.0005, batch_size=32, nhead=4\n",
            "Validation Accuracy: 93.18%\n",
            "Best Params: {'lr': 0.0005, 'batch_size': 16, 'nhead': 4} with Accuracy: 93.29%\n"
          ]
        }
      ],
      "source": [
        "import itertools\n",
        "import torch\n",
        "import torch.nn as nn\n",
        "from sklearn.metrics import accuracy_score\n",
        "\n",
        "# Define the hyperparameters grid\n",
        "param_grid = {\n",
        "    'lr': [0.001, 0.0005],\n",
        "    'batch_size': [16, 32],\n",
        "    'nhead': [2, 4],\n",
        "    'num_layers': [2, 3],\n",
        "    'dropout': [0.2, 0.3],\n",
        "    'd_model': [64, 128]  # Dapat juga menambah d_model\n",
        "}\n",
        "\n",
        "# Track the best model\n",
        "best_accuracy = 0\n",
        "best_params = None\n",
        "\n",
        "# Loop over all combinations of hyperparameters\n",
        "for lr, batch_size, nhead, num_layers, dropout, d_model in itertools.product(\n",
        "        param_grid['lr'],\n",
        "        param_grid['batch_size'],\n",
        "        param_grid['nhead'],\n",
        "        param_grid['num_layers'],\n",
        "        param_grid['dropout'],\n",
        "        param_grid['d_model']\n",
        "    ):\n",
        "\n",
        "    print(f'Training with lr={lr}, batch_size={batch_size}, nhead={nhead}, num_layers={num_layers}, dropout={dropout}, d_model={d_model}')\n",
        "\n",
        "    # Reinitialize model with new hyperparameters\n",
        "    model = TransformerModel(input_dim=X_bin.shape[1], num_classes=len(class_names),\n",
        "                             d_model=d_model, nhead=nhead, num_layers=num_layers, dropout=dropout)\n",
        "\n",
        "    optimizer = torch.optim.Adam(model.parameters(), lr=lr)\n",
        "    criterion = nn.CrossEntropyLoss()\n",
        "\n",
        "    # K-Fold training, you may integrate it here as well\n",
        "    for fold, (train_index, val_index) in enumerate(kf.split(data)):\n",
        "        print(f'Training Fold {fold + 1}')\n",
        "\n",
        "        # Split data\n",
        "        X_train, X_val = data.drop(columns=['label']).iloc[train_index], data.drop(columns=['label']).iloc[val_index]\n",
        "        y_train, y_val = data['label'].iloc[train_index], data['label'].iloc[val_index]\n",
        "\n",
        "        # Convert to PyTorch tensors\n",
        "        X_train_tensor = torch.FloatTensor(X_train.values)\n",
        "        y_train_tensor = torch.LongTensor(y_train.values)\n",
        "        X_val_tensor = torch.FloatTensor(X_val.values)\n",
        "        y_val_tensor = torch.LongTensor(y_val.values)\n",
        "\n",
        "        # Create DataLoader with the new batch size\n",
        "        train_dataset = TensorDataset(X_train_tensor, y_train_tensor)\n",
        "        train_loader = DataLoader(train_dataset, batch_size=batch_size, shuffle=True)\n",
        "\n",
        "        # Train for a larger number of epochs\n",
        "        num_epochs = 20  # Atau sesuai kebutuhan\n",
        "        for epoch in range(num_epochs):\n",
        "            model.train()\n",
        "            epoch_loss = 0\n",
        "            for inputs, labels in train_loader:\n",
        "                optimizer.zero_grad()\n",
        "                outputs = model(inputs)\n",
        "                loss = criterion(outputs, labels)\n",
        "                loss.backward()\n",
        "                optimizer.step()\n",
        "                epoch_loss += loss.item()\n",
        "\n",
        "            # Validate after each epoch\n",
        "            model.eval()\n",
        "            with torch.no_grad():\n",
        "                y_pred_probs = model(X_val_tensor)\n",
        "                _, y_pred = torch.max(y_pred_probs, 1)\n",
        "                accuracy = accuracy_score(y_val, y_pred.numpy())\n",
        "\n",
        "            print(f'Epoch {epoch + 1}, Validation Accuracy: {accuracy * 100:.2f}%')\n",
        "\n",
        "    # Save best parameters\n",
        "    if accuracy > best_accuracy:\n",
        "        best_accuracy = accuracy\n",
        "        best_params = {\n",
        "            'lr': lr,\n",
        "            'batch_size': batch_size,\n",
        "            'nhead': nhead,\n",
        "            'num_layers': num_layers,\n",
        "            'dropout': dropout,\n",
        "            'd_model': d_model\n",
        "        }\n",
        "\n",
        "print(f'Best Params: {best_params} with Accuracy: {best_accuracy * 100:.2f}%')\n"
      ]
    },
    {
      "cell_type": "markdown",
      "metadata": {
        "id": "hmQyIdBr_Igh"
      },
      "source": [
        "# **CLASSIFICATION With Hyperparameter Tuning**\n",
        "ganti parameter sesuai yang terbaik hasil hyperparameter tuning"
      ]
    },
    {
      "cell_type": "code",
      "execution_count": null,
      "metadata": {
        "id": "Dwywu7DcRqEp"
      },
      "outputs": [],
      "source": [
        "import pandas as pd\n",
        "import numpy as np\n",
        "from sklearn.model_selection import KFold\n",
        "from sklearn.metrics import classification_report, accuracy_score, confusion_matrix, f1_score\n",
        "from sklearn.preprocessing import LabelEncoder\n",
        "import torch\n",
        "import torch.nn as nn\n",
        "from torch.utils.data import DataLoader, TensorDataset\n",
        "import matplotlib.pyplot as plt\n",
        "import seaborn as sns\n",
        "\n",
        "# 1. Load data\n",
        "# data = pd.read_csv('email.csv')\n",
        "\n",
        "# 2. Preprocessing: Label Encoding\n",
        "le1 = LabelEncoder()\n",
        "data['label'] = le1.fit_transform(data['label'])  # Ganti 'Label' sesuai dengan nama kolom asli\n",
        "class_names = le1.classes_\n",
        "\n",
        "# Cek apakah ada nilai hilang dan ganti dengan nilai yang sesuai\n",
        "data.fillna(0, inplace=True)  # Mengisi nilai hilang dengan 0\n",
        "\n",
        "# 3. Define Transformer Model with updated nhead\n",
        "class TransformerModel(nn.Module):\n",
        "    def __init__(self, input_dim, num_classes, d_model=64, nhead=4, num_layers=2):\n",
        "        super(TransformerModel, self).__init__()\n",
        "        self.embedding = nn.Linear(input_dim, d_model)  # Embedding layer\n",
        "        self.transformer_encoder = nn.TransformerEncoder(\n",
        "            nn.TransformerEncoderLayer(d_model=d_model, nhead=nhead, batch_first=True),\n",
        "            num_layers=num_layers\n",
        "        )\n",
        "        self.fc = nn.Linear(d_model, num_classes)  # Output layer\n",
        "\n",
        "    def forward(self, x):\n",
        "        x = self.embedding(x)  # Embed the input features\n",
        "        x = x.unsqueeze(1)  # Add sequence dimension (batch_size, seq_length, feature_dim)\n",
        "        x = self.transformer_encoder(x)  # Pass through the transformer encoder\n",
        "        x = x.mean(dim=1)  # Average pooling\n",
        "        return self.fc(x)  # Final output\n",
        "\n",
        "# 4. KFold Cross-Validation\n",
        "kf = KFold(n_splits=10, shuffle=True, random_state=50)\n",
        "all_accuracy, all_f1_scores = [], []\n",
        "conf_matrix_list = []\n",
        "average_train_losses = []  # List to store average train losses for plotting\n",
        "average_val_accuracies = []  # List to store validation accuracies for plotting\n",
        "\n",
        "for fold, (train_index, val_index) in enumerate(kf.split(data)):\n",
        "    print(f'Fold {fold + 1}')\n",
        "\n",
        "    # Split data using .iloc to select rows by index\n",
        "    X_train, X_val = data.drop(columns=['label']).iloc[train_index], data.drop(columns=['label']).iloc[val_index]\n",
        "    y_train, y_val = data['label'].iloc[train_index], data['label'].iloc[val_index]\n",
        "\n",
        "    # Convert to PyTorch tensors\n",
        "    X_train_tensor = torch.FloatTensor(X_train.values)\n",
        "    y_train_tensor = torch.LongTensor(y_train.values)\n",
        "    X_val_tensor = torch.FloatTensor(X_val.values)\n",
        "    y_val_tensor = torch.LongTensor(y_val.values)\n",
        "\n",
        "    # Create DataLoader with updated batch_size\n",
        "    train_dataset = TensorDataset(X_train_tensor, y_train_tensor)\n",
        "    train_loader = DataLoader(train_dataset, batch_size=16, shuffle=True)\n",
        "\n",
        "    # Initialize the model\n",
        "    model = TransformerModel(input_dim=X_train_tensor.shape[1], num_classes=len(class_names))\n",
        "    criterion = nn.CrossEntropyLoss()\n",
        "    optimizer = torch.optim.Adam(model.parameters(), lr=0.0005)  # Updated learning rate\n",
        "\n",
        "    # Early stopping setup\n",
        "    best_accuracy = 0\n",
        "    patience, trigger_times = 5, 0\n",
        "\n",
        "    # Train the model\n",
        "    num_epochs = 20\n",
        "    train_losses = []\n",
        "    val_accuracies = []\n",
        "\n",
        "    for epoch in range(num_epochs):\n",
        "        model.train()\n",
        "        epoch_loss = 0\n",
        "        for inputs, labels in train_loader:\n",
        "            optimizer.zero_grad()\n",
        "            outputs = model(inputs)\n",
        "            loss = criterion(outputs, labels)\n",
        "            loss.backward()\n",
        "            optimizer.step()\n",
        "            epoch_loss += loss.item()\n",
        "\n",
        "        avg_loss = epoch_loss / len(train_loader)\n",
        "        train_losses.append(avg_loss)\n",
        "\n",
        "        # Validate the model\n",
        "        model.eval()\n",
        "        with torch.no_grad():\n",
        "            y_pred_probs = model(X_val_tensor)\n",
        "            _, y_pred = torch.max(y_pred_probs, 1)\n",
        "\n",
        "        accuracy = accuracy_score(y_val, y_pred.numpy())\n",
        "        val_accuracies.append(accuracy)\n",
        "\n",
        "        # Save the best model\n",
        "        if accuracy > best_accuracy:\n",
        "            best_accuracy = accuracy\n",
        "            torch.save(model.state_dict(), f'model_best_fold_{fold + 1}.pt')\n",
        "            trigger_times = 0\n",
        "        else:\n",
        "            trigger_times += 1\n",
        "\n",
        "        if trigger_times >= patience:\n",
        "            print(f'Early stopping triggered at epoch {epoch + 1}')\n",
        "            break\n",
        "\n",
        "    # Metrics calculation\n",
        "    conf_matrix = confusion_matrix(y_val, y_pred.numpy())\n",
        "    conf_matrix_list.append(conf_matrix)\n",
        "    all_accuracy.append(accuracy)\n",
        "\n",
        "    f1 = f1_score(y_val, y_pred.numpy(), average='weighted')\n",
        "    all_f1_scores.append(f1)\n",
        "\n",
        "    # Print results for the current fold\n",
        "    print(f'Accuracy for fold {fold + 1}: {accuracy * 100:.2f}%')\n",
        "    print(f'F1 Score for fold {fold + 1}: {f1:.4f}')\n",
        "    cls_report = classification_report(y_val, y_pred.numpy(), target_names=class_names)\n",
        "    print(cls_report)\n",
        "\n",
        "    # Store average loss and accuracy for plotting\n",
        "    average_train_losses.append(train_losses)\n",
        "    average_val_accuracies.append(val_accuracies)\n",
        "\n",
        "    # Plot confusion matrix for the current fold\n",
        "    plt.figure(figsize=(6, 4))\n",
        "    sns.heatmap(conf_matrix, annot=True, fmt='.0f', cmap='Blues', cbar=False,\n",
        "                xticklabels=class_names, yticklabels=class_names)\n",
        "    plt.xlabel('Predicted Label')\n",
        "    plt.ylabel('True Label')\n",
        "    plt.title(f'Confusion Matrix for Fold {fold + 1}')\n",
        "    plt.show()\n",
        "\n",
        "# 5. Average Metrics Across All Folds\n",
        "print(f'Average Accuracy: {np.mean(all_accuracy) * 100:.2f}%')\n",
        "print(f'Average F1 Score: {np.mean(all_f1_scores):.4f}')\n",
        "\n",
        "# 6. Plot the Average Confusion Matrix\n",
        "average_conf_matrix = np.mean(conf_matrix_list, axis=0)\n",
        "\n",
        "plt.figure(figsize=(8, 6))\n",
        "sns.heatmap(average_conf_matrix, annot=True, fmt='.0f', cmap='Blues', cbar=False,\n",
        "            xticklabels=class_names, yticklabels=class_names)\n",
        "plt.xlabel('Predicted Label')\n",
        "plt.ylabel('True Label')\n",
        "plt.title('Average Confusion Matrix Across Folds')\n",
        "plt.show()\n"
      ]
    }
  ],
  "metadata": {
    "accelerator": "GPU",
    "colab": {
      "collapsed_sections": [
        "_zwCO4CYjHOA",
        "AHj5eTAujTyE",
        "4BXqrtHHkl1M",
        "3-Y9E27L7hTr",
        "bDbU1Yy1Bfs_",
        "aPcQLHgdnIfV",
        "UGcGz1c07fNo",
        "hmQyIdBr_Igh",
        "Tvy51MusR6cs",
        "EkH_RYbIR_D-",
        "ENIQ8tKfSGQG",
        "9amPXw6_V3gW",
        "jlQe6ayuV6ho",
        "gELobKBbV-rx",
        "hcJ7npSgYmW5",
        "hJTv8IoTYpV0",
        "Qo8oYfLqYrl5"
      ],
      "gpuType": "T4",
      "provenance": [],
      "include_colab_link": true
    },
    "kernelspec": {
      "display_name": "Python 3",
      "name": "python3"
    },
    "language_info": {
      "name": "python"
    }
  },
  "nbformat": 4,
  "nbformat_minor": 0
}